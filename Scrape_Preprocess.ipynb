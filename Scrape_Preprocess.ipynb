{
 "cells": [
  {
   "cell_type": "markdown",
   "id": "d5fc14f7",
   "metadata": {},
   "source": [
    "## Scrape & Preprocess Text"
   ]
  },
  {
   "cell_type": "markdown",
   "id": "1b380b5f",
   "metadata": {},
   "source": [
    "Import Libraries"
   ]
  },
  {
   "cell_type": "code",
   "execution_count": 10,
   "id": "93da4b03",
   "metadata": {},
   "outputs": [],
   "source": [
    "import os\n",
    "from selenium import webdriver\n",
    "from bs4 import BeautifulSoup as bs\n",
    "import pandas as pd\n",
    "import time, random\n",
    "import numpy as np\n",
    "import geckodriver_autoinstaller"
   ]
  },
  {
   "cell_type": "markdown",
   "id": "46575494",
   "metadata": {},
   "source": [
    "#### Scrape Dinamically Generated Pages from chileconvencion.cl"
   ]
  },
  {
   "cell_type": "code",
   "execution_count": 31,
   "id": "43fa29c9",
   "metadata": {},
   "outputs": [],
   "source": [
    "geckodriver_autoinstaller.install()\n",
    "driver = webdriver.Firefox()\n",
    "driver.implicitly_wait(20)"
   ]
  },
  {
   "cell_type": "code",
   "execution_count": 9,
   "id": "01a7d4dc",
   "metadata": {},
   "outputs": [],
   "source": [
    "#chromedriver = '/Users/lw/Desktop/chromedriver'\n",
    "#os.environ['webdriver.chrome.driver'] = \\\n",
    "#        chromedriver\n",
    "#driver = webdriver.Chrome(chromedriver)\n",
    "#driver.implicitly_wait(20)"
   ]
  },
  {
   "cell_type": "code",
   "execution_count": 32,
   "id": "3868f310",
   "metadata": {},
   "outputs": [
    {
     "name": "stderr",
     "output_type": "stream",
     "text": [
      "/var/folders/tv/8qzgqvq554vgrs4zb6bwbwlm0000gn/T/ipykernel_38710/1720728470.py:2: DeprecationWarning: find_element_by_* commands are deprecated. Please use find_element() instead\n",
      "  driver.find_element_by_id('nav-iniciativas-tab').click() #Navigate to page containing documents of interest.\n"
     ]
    }
   ],
   "source": [
    "driver.get('https://www.chileconvencion.cl/documentos/')\n",
    "driver.find_element_by_id('nav-iniciativas-tab').click() #Navigate to page containing documents of interest."
   ]
  },
  {
   "cell_type": "code",
   "execution_count": 34,
   "id": "b5b2761b",
   "metadata": {},
   "outputs": [],
   "source": [
    "driver.implicitly_wait(60)"
   ]
  },
  {
   "cell_type": "markdown",
   "id": "f95f9056",
   "metadata": {},
   "source": [
    "Scrape html of documents table in each page."
   ]
  },
  {
   "cell_type": "code",
   "execution_count": 35,
   "id": "99278a2f",
   "metadata": {},
   "outputs": [
    {
     "name": "stderr",
     "output_type": "stream",
     "text": [
      "/var/folders/tv/8qzgqvq554vgrs4zb6bwbwlm0000gn/T/ipykernel_38710/117984389.py:7: DeprecationWarning: find_element_by_* commands are deprecated. Please use find_element() instead\n",
      "  driver.find_element_by_id('tableIniciativas_next').click()\n"
     ]
    }
   ],
   "source": [
    "docs_table = []\n",
    "for i in range(96):\n",
    "    soup = bs(driver.page_source)\n",
    "    [docs_table.append(doc) for doc in soup.find(id='tableIniciativas').find_all(class_='even')]\n",
    "    [docs_table.append(doc) for doc in soup.find(id='tableIniciativas').find_all(class_='odd')]\n",
    "    if i != 95:\n",
    "        driver.find_element_by_id('tableIniciativas_next').click()\n",
    "    time.sleep(np.random.uniform(0,3))\n",
    "    "
   ]
  },
  {
   "cell_type": "markdown",
   "id": "d5b1af67",
   "metadata": {},
   "source": [
    "Retrieve url of norm proposals and associated info data"
   ]
  },
  {
   "cell_type": "code",
   "execution_count": 36,
   "id": "87fa524a",
   "metadata": {},
   "outputs": [],
   "source": [
    "urls = [doc.find_all('td')[5].find('a')['href'] for doc in docs_table]\n",
    "nr = [doc.find_all('td')[0].text for doc in docs_table]\n",
    "\n",
    "df = pd.DataFrame(urls, index=nr, columns=['doc_url'])\n",
    "df['name'] = [doc.find_all('td')[1].text for doc in docs_table]\n",
    "df['bulletin'] = [doc.find_all('td')[2].text for doc in docs_table]\n",
    "df['topic'] = [doc.find_all('td')[3].text for doc in docs_table]\n",
    "df['commission'] = [doc.find_all('td')[4].text for doc in docs_table]"
   ]
  },
  {
   "cell_type": "code",
   "execution_count": 38,
   "id": "523d7a0e",
   "metadata": {},
   "outputs": [
    {
     "name": "stdout",
     "output_type": "stream",
     "text": [
      "(3, 5)\n"
     ]
    }
   ],
   "source": [
    "print(df[~df.doc_url.str.contains('.pdf')].shape)\n",
    "missing_url_index = df[~df.doc_url.str.contains('.pdf')].index\n",
    "#print(docs_table[nr.index(missing_url_index)].find_all('td')[-1].find('a')) #Problem from the site\n",
    "df.drop(index=missing_url_index, inplace=True, errors='ignore') #Drop initiative w missing url from df"
   ]
  },
  {
   "cell_type": "code",
   "execution_count": 59,
   "id": "9f46e757",
   "metadata": {},
   "outputs": [
    {
     "data": {
      "text/plain": [
       "(950, 5)"
      ]
     },
     "execution_count": 59,
     "metadata": {},
     "output_type": "execute_result"
    }
   ],
   "source": [
    "df.shape"
   ]
  },
  {
   "cell_type": "markdown",
   "id": "612a17c8",
   "metadata": {},
   "source": [
    "#### Separate Proposals for text extraction.\n",
    "\n",
    "There are special Norm Proposals with different formatting:\n",
    "- Indigenous Proposals\n",
    "- Popular Proposals\n",
    "- Pdfs containing multiple proposals"
   ]
  },
  {
   "cell_type": "code",
   "execution_count": 39,
   "id": "48f8dd46",
   "metadata": {},
   "outputs": [],
   "source": [
    "import re"
   ]
  },
  {
   "cell_type": "code",
   "execution_count": 40,
   "id": "8a760582",
   "metadata": {},
   "outputs": [],
   "source": [
    "df['name'] = df.name.apply(lambda x: re.sub(f'\\xa0', ' ', x)) # invisible formatting that hinders search\n",
    "df['name'] = df.name.apply(lambda x: re.sub(f'  ', ' ', x))\n",
    "\n",
    "ind_df = df[df.name.str.contains('ativa Popular Indígena')]\n",
    "pop_df = df[df.name.str.contains('Iniciativa Popular Constituyente')]\n",
    "multipl_df = df[df.name.str.contains('Iniciativas')] #Special PDFs that contain multiple proposals\n",
    "conv_df = df[df.name.str.contains('iva Conv')|df.name.str.contains('iva Ind')]"
   ]
  },
  {
   "cell_type": "code",
   "execution_count": 43,
   "id": "aa6070a5",
   "metadata": {},
   "outputs": [],
   "source": [
    "df['name'] = df.name.apply(lambda x: re.sub(f'\\xa0', ' ', x)) # invisible formatting that hinders search\n",
    "df['name'] = df.name.apply(lambda x: re.sub(f'  ', ' ', x))\n",
    "\n",
    "ind_df = df[df.name.str.lower().str.contains(r'ativa popular indígena')]\n",
    "pop_df = df[df.name.str.lower().str.contains('iniciativa popular constituyente')]\n",
    "multipl_df = df[df.name.str.lower().str.contains('iniciativas')] #Special PDFs that contain multiple proposals\n",
    "conv_df = df[df.name.str.lower().str.contains('iva conv')|df.name.str.contains('iva Ind')]"
   ]
  },
  {
   "cell_type": "code",
   "execution_count": 62,
   "id": "11ed71e1",
   "metadata": {},
   "outputs": [
    {
     "data": {
      "text/plain": [
       "(950, True)"
      ]
     },
     "execution_count": 62,
     "metadata": {},
     "output_type": "execute_result"
    }
   ],
   "source": [
    "info_dfs = [ind_df,pop_df,multipl_df,conv_df]\n",
    "unassigned = df[~df.index.isin(pd.concat(info_dfs).index)]\n",
    "nr_docs = sum([df.shape[0] for df in info_dfs])\n",
    "nr_docs, nr_docs==df.shape[0] # Sanity Check"
   ]
  },
  {
   "cell_type": "code",
   "execution_count": 53,
   "id": "87919924",
   "metadata": {},
   "outputs": [
    {
     "name": "stderr",
     "output_type": "stream",
     "text": [
      "/var/folders/tv/8qzgqvq554vgrs4zb6bwbwlm0000gn/T/ipykernel_38710/459956655.py:1: FutureWarning: The frame.append method is deprecated and will be removed from pandas in a future version. Use pandas.concat instead.\n",
      "  conv_df = conv_df.append(df.loc[[ind for ind in unassigned.index]])\n"
     ]
    }
   ],
   "source": [
    "conv_df = conv_df.append(df.loc[[ind for ind in unassigned.index]])"
   ]
  },
  {
   "cell_type": "code",
   "execution_count": 61,
   "id": "9bd723dd",
   "metadata": {},
   "outputs": [],
   "source": [
    "ind_df.index = ind_df.index + '_ind'\n",
    "pop_df.index = pop_df.index + '_pop'\n",
    "multipl_df.index = multipl_df.index + '_mult'\n",
    "conv_df.index = conv_df.index + '_conv'"
   ]
  },
  {
   "cell_type": "code",
   "execution_count": 63,
   "id": "72f779b2",
   "metadata": {},
   "outputs": [],
   "source": [
    "df_file_labels = ['ind_info', 'pop_info', 'mult_info', 'conv_info']\n",
    "for i in range(4):\n",
    "    info_dfs[i].to_csv(f'Data/{df_file_labels[i]}.csv')"
   ]
  },
  {
   "cell_type": "markdown",
   "id": "8384b3d1",
   "metadata": {},
   "source": [
    "#### Get PDFs from urls"
   ]
  },
  {
   "cell_type": "code",
   "execution_count": 4,
   "id": "82168c36",
   "metadata": {},
   "outputs": [],
   "source": [
    "import requests\n",
    "from fake_useragent import UserAgent"
   ]
  },
  {
   "cell_type": "code",
   "execution_count": 13,
   "id": "50abf7d8",
   "metadata": {},
   "outputs": [],
   "source": [
    "import pandas as pd\n",
    "import time, random\n",
    "import numpy as np"
   ]
  },
  {
   "cell_type": "code",
   "execution_count": 80,
   "id": "e4ab7933",
   "metadata": {},
   "outputs": [],
   "source": [
    "ua = UserAgent()\n",
    "header1 = {'User-Agent':str(ua.msie)}\n",
    "header2 = {'User-Agent':str(ua.chrome)}\n",
    "def get_PDFs(df, folder):\n",
    "    for i in df.index:\n",
    "        url = df.loc[i,'doc_url']\n",
    "        try:\n",
    "            response = requests.get(url, headers=header1)\n",
    "        except BaseException as error:\n",
    "            try:\n",
    "                time.sleep(np.random.uniform(0,5))\n",
    "                response = requests.get(url, headers=header2)\n",
    "            except BaseException as error:\n",
    "                print(error)\n",
    "                print(i)\n",
    "                break\n",
    "        with open(f'PDFs/{folder}/{i}.pdf', 'wb') as f:\n",
    "            f.write(response.content)\n",
    "        time.sleep(np.random.uniform(0,5))"
   ]
  },
  {
   "cell_type": "code",
   "execution_count": 74,
   "id": "e007ffa6",
   "metadata": {},
   "outputs": [],
   "source": [
    "def get_PDFs2(df, folder):\n",
    "    for i in df.index:\n",
    "        url = df.loc[i,'doc_url']\n",
    "        try:\n",
    "            response = requests.get(url, headers={'User-Agent':str(ua.random)})\n",
    "        except BaseException as error:\n",
    "            try:\n",
    "                time.sleep(np.random.uniform(0,4))\n",
    "                response = requests.get(url, headers={'User-Agent':str(ua.random)})\n",
    "            except BaseException as error:\n",
    "                print(error)\n",
    "                print(i)\n",
    "                break\n",
    "        with open(f'PDFs/{folder}/{i}.pdf', 'wb') as f:\n",
    "            f.write(response.content)\n",
    "        time.sleep(np.random.uniform(0,4))\n",
    "    os.system(\"printf '\\a'\")"
   ]
  },
  {
   "cell_type": "code",
   "execution_count": 11,
   "id": "b8e49ad7",
   "metadata": {},
   "outputs": [],
   "source": [
    "ind_df = pd.read_csv('Data/ind_info.csv', index_col=0)\n",
    "conv_df = pd.read_csv('Data/conv_info.csv', index_col=0)"
   ]
  },
  {
   "cell_type": "code",
   "execution_count": 92,
   "id": "162e4b0d",
   "metadata": {},
   "outputs": [],
   "source": [
    "pop_df = pd.read_csv('Data/pop_info.csv', index_col=0)"
   ]
  },
  {
   "cell_type": "code",
   "execution_count": 15,
   "id": "5436210c",
   "metadata": {},
   "outputs": [
    {
     "name": "stdout",
     "output_type": "stream",
     "text": [
      "HTTPSConnectionPool(host='www.chileconvencion.cl', port=443): Max retries exceeded with url: /wp-content/uploads/2022/02/741-Iniciativa-Convencional-Constituyente-del-cc-Ignacio-Achurra-sobre-Espectro-Radioelectrico-01-02.pdf (Caused by ConnectTimeoutError(<urllib3.connection.HTTPSConnection object at 0x14143d630>, 'Connection to www.chileconvencion.cl timed out. (connect timeout=None)'))\n",
      "13_conv_conv\n"
     ]
    },
    {
     "data": {
      "text/plain": [
       "(None, None)"
      ]
     },
     "execution_count": 15,
     "metadata": {},
     "output_type": "execute_result"
    }
   ],
   "source": [
    "get_PDFs(ind_df, 'Indigenas'), get_PDFs(conv_df, 'Convencionales')\n",
    "get_PDFs(multipl_df, 'Multiples'), get_PDFs(pop_df, 'Populares')"
   ]
  },
  {
   "cell_type": "markdown",
   "id": "98b845b8",
   "metadata": {},
   "source": [
    "### Get text from PDFs\n",
    "Different proposal types have different formating (some are scanned and need ocr)"
   ]
  },
  {
   "cell_type": "code",
   "execution_count": 94,
   "id": "c90dea34",
   "metadata": {},
   "outputs": [],
   "source": [
    "import textract\n",
    "import re"
   ]
  },
  {
   "cell_type": "code",
   "execution_count": 95,
   "id": "16f5dd42",
   "metadata": {},
   "outputs": [],
   "source": [
    "utf_chars = ({r'\\\\xc3\\\\xa1':r'á',r'\\\\xc3\\\\xa9':r'é',r'\\\\xc3\\\\xad':r'í',r'\\\\xc3\\\\xb3':r'ó',\n",
    "             r'\\\\xc3\\\\xba':r'ú',r'\\\\xc3\\\\xb1':r'ñ',r'\\\\xef\\\\xac\\\\x81':r'fi',\n",
    "             r'\\\\xe2\\\\x80\\\\x9c':r'\"',r'\\\\xe2\\\\x80\\\\x9d':r'\"',r'\\\\xef\\\\xac\\\\x82':r'fl',\n",
    "             r'\\\\xc2\\\\xb0':r'',r'\\\\xc3\\\\x93':r'Ó',r'\\\\xc2\\\\xba':r'',r'\\\\xc3\\\\x91':r'Ñ',\n",
    "             r'\\\\xe2\\\\x80\\\\x93':r'-',r'\\\\xc3\\\\x81':r'Á',r'\\\\xc3\\\\x8d':r'Í',r'\\\\xc2\\\\xa1':r'',\n",
    "             r'\\\\xef\\\\x82\\\\xb7':r'','\\xc2\\xab':r'','\\xc2\\xbb':r'',r'\\\\x0c':r'',r'(?<=\\w)([\\\\]n)((?=[a-z]))':r' '})\n",
    "def conv_chars(string, chars=utf_chars):\n",
    "    for utf, char in chars.items():\n",
    "        string=re.sub(utf, char, string)\n",
    "    return string"
   ]
  },
  {
   "cell_type": "code",
   "execution_count": null,
   "id": "96d16c2e",
   "metadata": {},
   "outputs": [],
   "source": [
    "text_str = str(text)\n",
    "for i in (re.findall(r'https(.*?)\\s', text_str)):\n",
    "    text_str = re.sub(f'r\"{i}\"', r'', text_str)"
   ]
  },
  {
   "cell_type": "code",
   "execution_count": 96,
   "id": "8bb6e15e",
   "metadata": {},
   "outputs": [],
   "source": [
    "def extract_text_pdf(directory):\n",
    "    docs, names, errors = [], [], [] #dict()\n",
    "    for file in os.listdir(directory):\n",
    "        try:\n",
    "            text = textract.process(f'{directory}/{file}', method='pdfminer')\n",
    "            docs.append(text), names.append(re.sub(r'.pdf', r'', file))\n",
    "        except UnicodeDecodeError: #BaseException as error:\n",
    "            errors.append(file) #errors[file:error]\n",
    "            continue\n",
    "    return docs, names, errors"
   ]
  },
  {
   "cell_type": "markdown",
   "id": "cab918e5",
   "metadata": {},
   "source": [
    "###### Indigenous Proposals"
   ]
  },
  {
   "cell_type": "code",
   "execution_count": 102,
   "id": "e97214b2",
   "metadata": {},
   "outputs": [],
   "source": [
    "#ind_docs, ind_docs_ind, ind_errors = extract_text_pdf('PDFs/Indigenas')\n",
    "pop_docs, pop_docs_ind, pop_errors = extract_text_pdf('PDFs/Populares')"
   ]
  },
  {
   "cell_type": "code",
   "execution_count": 99,
   "id": "06bf96c7",
   "metadata": {},
   "outputs": [
    {
     "data": {
      "text/plain": [
       "0"
      ]
     },
     "execution_count": 99,
     "metadata": {},
     "output_type": "execute_result"
    }
   ],
   "source": [
    "# Preprocess indigenous initiatives\n",
    "ind_docs_clean, ind_docs_error = [], []\n",
    "for text in ind_docs:\n",
    "    text = conv_chars(str(text))\n",
    "    text = re.findall(r'n de la norma(.*?)Archivos Adjuntos', text)\n",
    "    if len(text)==1:\n",
    "        ind_docs_clean.append(text[0]),\n",
    "    else:\n",
    "        ind_docs_error.append(ind_docs.index(text))\n",
    "len(ind_docs_error)"
   ]
  },
  {
   "cell_type": "code",
   "execution_count": 100,
   "id": "0ade7aa6",
   "metadata": {},
   "outputs": [],
   "source": [
    "# Due to the formatting and extraction, sometimes the proposal topic is printed\n",
    "# after the argumentation begins.\n",
    "topic_regex = r'[\\\\]{1,2}n[\\\\]{1,2}n.+?[\\\\]{1,2}n\\d\\s-\\s.+?[\\\\]{1,2}n[\\\\]n'\n",
    "ind_docs_clean = [re.sub(topic_regex, r'', doc) for doc in ind_docs_clean]"
   ]
  },
  {
   "cell_type": "code",
   "execution_count": 101,
   "id": "ec311fab",
   "metadata": {},
   "outputs": [
    {
     "data": {
      "text/html": [
       "<div>\n",
       "<style scoped>\n",
       "    .dataframe tbody tr th:only-of-type {\n",
       "        vertical-align: middle;\n",
       "    }\n",
       "\n",
       "    .dataframe tbody tr th {\n",
       "        vertical-align: top;\n",
       "    }\n",
       "\n",
       "    .dataframe thead th {\n",
       "        text-align: right;\n",
       "    }\n",
       "</style>\n",
       "<table border=\"1\" class=\"dataframe\">\n",
       "  <thead>\n",
       "    <tr style=\"text-align: right;\">\n",
       "      <th></th>\n",
       "      <th>text</th>\n",
       "    </tr>\n",
       "  </thead>\n",
       "  <tbody>\n",
       "    <tr>\n",
       "      <th>270_ind_ind</th>\n",
       "      <td>\\n\\nSomos una comunidad muy participativa y de...</td>\n",
       "    </tr>\n",
       "    <tr>\n",
       "      <th>312_ind_ind</th>\n",
       "      <td>\\n\\nPara la presentación de esta propuesta, el...</td>\n",
       "    </tr>\n",
       "    <tr>\n",
       "      <th>362_ind_ind</th>\n",
       "      <td>\\n\\nI) GENERALIDADES.  \\nLa presente propuesta...</td>\n",
       "    </tr>\n",
       "  </tbody>\n",
       "</table>\n",
       "</div>"
      ],
      "text/plain": [
       "                                                          text\n",
       "270_ind_ind  \\n\\nSomos una comunidad muy participativa y de...\n",
       "312_ind_ind  \\n\\nPara la presentación de esta propuesta, el...\n",
       "362_ind_ind  \\n\\nI) GENERALIDADES.  \\nLa presente propuesta..."
      ]
     },
     "execution_count": 101,
     "metadata": {},
     "output_type": "execute_result"
    }
   ],
   "source": [
    "ind_doc = pd.DataFrame(ind_docs_clean, index=ind_docs_ind, columns=['text'])\n",
    "ind_doc.to_csv('Data/ind_docs.csv')\n",
    "ind_doc.head(3)"
   ]
  },
  {
   "cell_type": "markdown",
   "id": "ee89d065",
   "metadata": {},
   "source": [
    "Indigenous proposals in PDF with multiple proposals"
   ]
  },
  {
   "cell_type": "code",
   "execution_count": null,
   "id": "11ffa5f1",
   "metadata": {},
   "outputs": [],
   "source": [
    "text = conv_chars(str(textract.process('PDFs/Multiples/1_mult.pdf', method='pdfminer')))\n",
    "texts = re.findall(r'Construcción de la norma(.*?)Archivos Adjuntos', text)\n",
    "texts = [re.sub(topic_regex, r'', text) for doc in ind_docs_clean]\n",
    "ind_mult_ind = [f'{i}_ind_m' for i in range(len(texts))]\n",
    "ind_mult_doc = pd.DataFrame(texts, index=ind_mult_ind, columns=['text'])\n",
    "ind_mult_doc.to_csv('Data/ind_mult_docs.csv')"
   ]
  },
  {
   "cell_type": "markdown",
   "id": "1ef577f6",
   "metadata": {},
   "source": [
    "###### Popular Proposals"
   ]
  },
  {
   "cell_type": "code",
   "execution_count": 151,
   "id": "0ae20cc6",
   "metadata": {},
   "outputs": [
    {
     "data": {
      "text/plain": [
       "0"
      ]
     },
     "execution_count": 151,
     "metadata": {},
     "output_type": "execute_result"
    }
   ],
   "source": [
    "# Preprocess popular initiatives\n",
    "pop_docs_clean, pop_docs_error = [], []\n",
    "for doc in pop_docs:\n",
    "    text = conv_chars(str(doc))\n",
    "    text_sm = re.findall(r'Problema a Solucionar(.*?)Archivos Adjuntos', text)\n",
    "    if len(text_sm) != 1:\n",
    "        #pop_docs_error.append(pop_docs.index(doc))\n",
    "        text_sm = re.findall(r'Problema a Solucionar(.+)', text)\n",
    "        if len(text_sm) != 1:\n",
    "            text_sm = re.findall(r'PROBLEMA A SOLUCIONAR(.+)', text)\n",
    "            if len(text_sm) !=1:\n",
    "                text_sm = re.findall(r'Problema Por Solucionar(.+)', text)\n",
    "                if len(text_sm) != 1:\n",
    "                    pop_docs_error.append(pop_docs.index(doc))\n",
    "    pop_docs_clean.append(text_sm[0]) #pop_docs_clean.append(text_sm[0])\n",
    "len(pop_docs_error)"
   ]
  },
  {
   "cell_type": "code",
   "execution_count": 153,
   "id": "f25f002d",
   "metadata": {},
   "outputs": [],
   "source": [
    "# Due to the formatting and extraction, sometimes the proposal topic is printed\n",
    "# after the argumentation begins.\n",
    "sidebox_regex = r'ESTA\\sPROPUESTA\\sCUENTA\\sCON.+DISPONIBLE\\sDESDE'\n",
    "pop_docs_clean = [re.sub(sidebox_regex, r'', doc) for doc in pop_docs_clean]"
   ]
  },
  {
   "cell_type": "code",
   "execution_count": 156,
   "id": "cc00de7e",
   "metadata": {},
   "outputs": [
    {
     "data": {
      "text/html": [
       "<div>\n",
       "<style scoped>\n",
       "    .dataframe tbody tr th:only-of-type {\n",
       "        vertical-align: middle;\n",
       "    }\n",
       "\n",
       "    .dataframe tbody tr th {\n",
       "        vertical-align: top;\n",
       "    }\n",
       "\n",
       "    .dataframe thead th {\n",
       "        text-align: right;\n",
       "    }\n",
       "</style>\n",
       "<table border=\"1\" class=\"dataframe\">\n",
       "  <thead>\n",
       "    <tr style=\"text-align: right;\">\n",
       "      <th></th>\n",
       "      <th>text</th>\n",
       "    </tr>\n",
       "  </thead>\n",
       "  <tbody>\n",
       "    <tr>\n",
       "      <th>333_pop_pop</th>\n",
       "      <td>\\n\\nFalta de perspectiva de género y enfoque i...</td>\n",
       "    </tr>\n",
       "    <tr>\n",
       "      <th>343_pop_pop</th>\n",
       "      <td>\\n\\nExisten múltiples expresiones de creencias...</td>\n",
       "    </tr>\n",
       "    <tr>\n",
       "      <th>538_pop_pop</th>\n",
       "      <td>\\n\\nSituación Ideal\\n\\n</td>\n",
       "    </tr>\n",
       "  </tbody>\n",
       "</table>\n",
       "</div>"
      ],
      "text/plain": [
       "                                                          text\n",
       "333_pop_pop  \\n\\nFalta de perspectiva de género y enfoque i...\n",
       "343_pop_pop  \\n\\nExisten múltiples expresiones de creencias...\n",
       "538_pop_pop                            \\n\\nSituación Ideal\\n\\n"
      ]
     },
     "execution_count": 156,
     "metadata": {},
     "output_type": "execute_result"
    }
   ],
   "source": [
    "pop_doc = pd.DataFrame(pop_docs_clean, index=pop_docs_ind, columns=['text'])\n",
    "pop_doc.to_csv('Data/pop_docs.csv')\n",
    "pop_doc.head(3)"
   ]
  },
  {
   "cell_type": "markdown",
   "id": "8e5f046d",
   "metadata": {},
   "source": [
    "Popular proposals in PDF with multiple proposals"
   ]
  },
  {
   "cell_type": "code",
   "execution_count": null,
   "id": "f9703ab8",
   "metadata": {},
   "outputs": [],
   "source": [
    "#mult_pop_text = conv_chars(str(textract.process('PDFs/Multiples/2_mult.pdf', method='pdfminer')))\n",
    "#pop_regex = r'Problema a Solucionar(.*?)Archivos Adjuntos'\n",
    "#pop_texts = re.findall(pop_regex, mult_pop_text)\n",
    "#pop_texts = [re.sub(topic_regex, '', text) for text in pop_texts]\n",
    "\n",
    "pop_mult_ind = [f'{i}_pop_m' for i in range(len(pop_texts))]\n",
    "pop_mult_doc = pd.DataFrame(pop_texts, columns=['text'], index=pop_mult_ind)\n",
    "pop_mult_doc.to_csv('Data/pop_mult_docs.csv')\n",
    "len(pop_texts)==78-53"
   ]
  },
  {
   "cell_type": "markdown",
   "id": "9f33c2d2",
   "metadata": {},
   "source": [
    "Assembly Proposals"
   ]
  },
  {
   "cell_type": "code",
   "execution_count": null,
   "id": "1f9117ee",
   "metadata": {},
   "outputs": [],
   "source": [
    "# Transform Assembly initiatives\n",
    "test = textract.process('PDFs/Convencionales/80.pdf', method='tesseract', language='spa')"
   ]
  },
  {
   "cell_type": "code",
   "execution_count": null,
   "id": "eac19790",
   "metadata": {},
   "outputs": [],
   "source": [
    "conv_docs = []\n",
    "conv_ind = []\n",
    "\n",
    "for pdf in os.listdir('PDFs/Convencionales')[:5]:\n",
    "    text = textract.process(f'PDFs/Convencionales/{pdf}', method='tesseract', language='spa')\n",
    "    text = conv_chars(str(text))\n",
    "    if len(text)>10:\n",
    "        conv_docs.append(spa_char(str(text)))\n",
    "        conv_ind.append(re.sub(r'.pdf', '_conv', pdf))\n",
    "\n",
    "#conv_doc = pd.DataFrame(conv_docs, index=conv_ind)\n",
    "#conv_doc.to_csv('Data/conv_docs.csv', index=False)"
   ]
  },
  {
   "cell_type": "code",
   "execution_count": null,
   "id": "a2c2cc66",
   "metadata": {},
   "outputs": [],
   "source": [
    "len(conv_docs), len(conv_ind)"
   ]
  },
  {
   "cell_type": "code",
   "execution_count": null,
   "id": "c3c280a3",
   "metadata": {},
   "outputs": [],
   "source": [
    "failed = [doc for doc in conv_docs if len(doc)<100]\n",
    "failed_ind = [conv_docs.index(doc) for doc in conv_docs if len(doc)<1000]\n",
    "#[conv_docs.pop(i) for i in failed_ind]\n",
    "#[conv_ind.pop(i) for i in failed_ind] #FIX IF TIME #from pdf2image import convert_from_path\n",
    "#len(conv_docs), len(conv_ind)"
   ]
  },
  {
   "cell_type": "markdown",
   "id": "9ad83d91",
   "metadata": {},
   "source": [
    "Popular proposals in PDF with multiple proposals"
   ]
  },
  {
   "cell_type": "markdown",
   "id": "ca7b2760",
   "metadata": {},
   "source": [
    "#### Create corpus"
   ]
  },
  {
   "cell_type": "code",
   "execution_count": null,
   "id": "8fe2e9fc",
   "metadata": {},
   "outputs": [],
   "source": [
    "ind_df = pd.read_csv('Data/ind_docs.csv', names=['text'], skiprows=[0])\n",
    "pop_df = pd.read_csv('Data/pop_docs.csv', names=['text'], skiprows=[0])\n",
    "conv_df = pd.read_csv('Data/conv_docs.csv', names=['text'], skiprows=[0])\n",
    "mult_ind_df = pd.read_csv('Data/mult_ind_docs.csv', names=['text'], skiprows=[0])\n",
    "mult_pop_df = pd.read_csv('Data/pop_mult_docs.csv', names=['text'], skiprows=[0])"
   ]
  },
  {
   "cell_type": "code",
   "execution_count": null,
   "id": "64a2c6fe",
   "metadata": {},
   "outputs": [],
   "source": [
    "conv_doc = pd.DataFrame(conv_docs, index=conv_ind, columns=['text']).head(2)\n",
    "conv_doc.to_csv('Data/conv_docs.csv', index=conv_ind)"
   ]
  },
  {
   "cell_type": "code",
   "execution_count": null,
   "id": "a7816c60",
   "metadata": {},
   "outputs": [],
   "source": [
    "dfs = [mult_pop_df, mult_ind_df, conv_df, pop_df, ind_df]"
   ]
  },
  {
   "cell_type": "code",
   "execution_count": null,
   "id": "5e0b041e",
   "metadata": {},
   "outputs": [],
   "source": [
    "corpus = []\n",
    "for df in dfs:\n",
    "    [corpus.append(spa_char(doc).split('\\\\n\\\\n')) for doc in df.text]"
   ]
  },
  {
   "cell_type": "code",
   "execution_count": null,
   "id": "4dd874e5",
   "metadata": {},
   "outputs": [],
   "source": [
    "corpus_no_s = []\n",
    "for doc in corpus:\n",
    "    corpus_no_s.append([re.sub(r'\\\\n', r' ', paragraph) for paragraph in doc])"
   ]
  },
  {
   "cell_type": "code",
   "execution_count": null,
   "id": "cb0604f1",
   "metadata": {},
   "outputs": [],
   "source": [
    "len(corpus_no_s)"
   ]
  },
  {
   "cell_type": "code",
   "execution_count": null,
   "id": "e5a6e4a8",
   "metadata": {},
   "outputs": [],
   "source": [
    "corpus_par = []\n",
    "for doc in corpus_no_s:\n",
    "    for par in doc:\n",
    "        if par != '':\n",
    "            corpus_par.append(par)"
   ]
  },
  {
   "cell_type": "code",
   "execution_count": null,
   "id": "1b27dd1f",
   "metadata": {},
   "outputs": [],
   "source": [
    "corpus[0]"
   ]
  },
  {
   "cell_type": "code",
   "execution_count": null,
   "id": "90985297",
   "metadata": {},
   "outputs": [],
   "source": [
    "print(len(corpus))\n",
    "print(sum([len(d.split(' ')) for d in corpus]))"
   ]
  },
  {
   "cell_type": "code",
   "execution_count": null,
   "id": "f847b00d",
   "metadata": {},
   "outputs": [],
   "source": [
    "from "
   ]
  },
  {
   "cell_type": "code",
   "execution_count": null,
   "id": "b89ca8e1",
   "metadata": {},
   "outputs": [],
   "source": [
    "len(os.listdir('PDFs/Convencionales'))"
   ]
  },
  {
   "cell_type": "markdown",
   "id": "8f436014",
   "metadata": {},
   "source": [
    "#### Tests"
   ]
  },
  {
   "cell_type": "code",
   "execution_count": null,
   "id": "11e28660",
   "metadata": {},
   "outputs": [],
   "source": [
    "df.shape"
   ]
  },
  {
   "cell_type": "code",
   "execution_count": null,
   "id": "f6c5d8a2",
   "metadata": {},
   "outputs": [],
   "source": [
    "df[df.topic.str.contains('Colegios profesionales')]"
   ]
  },
  {
   "cell_type": "code",
   "execution_count": null,
   "id": "1c89fb40",
   "metadata": {},
   "outputs": [],
   "source": [
    "#sorted([re.sub(r'.pdf', '', pdf) for pdf in os.listdir('PDFs/Indigenas')])"
   ]
  },
  {
   "cell_type": "code",
   "execution_count": null,
   "id": "eeb2698c",
   "metadata": {},
   "outputs": [],
   "source": [
    "#pd.read_csv('Data/ind_docs.csv')"
   ]
  },
  {
   "cell_type": "code",
   "execution_count": null,
   "id": "af209918",
   "metadata": {},
   "outputs": [],
   "source": [
    "sp_text = spa_char(str(text))"
   ]
  },
  {
   "cell_type": "code",
   "execution_count": null,
   "id": "0c123479",
   "metadata": {},
   "outputs": [],
   "source": [
    "#big_ind_text = textract.process(f'PDFs/Multiples/1.pdf', method='pdfminer')\n",
    "big_ind_text = spa_char(str(big_ind_text))\n",
    "big_ind_iter = re.findall(r'n de la norma(.*?)Archivos Adjuntos', big_ind_text)"
   ]
  },
  {
   "cell_type": "markdown",
   "id": "feba4edc",
   "metadata": {},
   "source": [
    "#### Old code"
   ]
  },
  {
   "cell_type": "code",
   "execution_count": null,
   "id": "173a8832",
   "metadata": {},
   "outputs": [],
   "source": [
    "def get_PDF(df, folder):\n",
    "    for i in df.index:\n",
    "        url = df.loc[i,'doc_url']\n",
    "        try:\n",
    "            response = requests.get(url)\n",
    "        except BaseException as error:\n",
    "            print(error)\n",
    "            print(i)\n",
    "            continue\n",
    "        with open(f'PDFs/{folder}/{i}.pdf', 'wb') as f:\n",
    "            f.write(response.content)"
   ]
  },
  {
   "cell_type": "code",
   "execution_count": null,
   "id": "a249cbd8",
   "metadata": {},
   "outputs": [],
   "source": [
    "nr, nombre, boletin, materia, comision, url = [], [], [], [], [], []\n",
    "\n",
    "for doc in docs_table:\n",
    "    elems = docs_table[-1].find_all('td')\n",
    "    nr.append(elems[0].text)\n",
    "    nombre.append(elems[1].text)\n",
    "    boletin.append(elems[2].text)\n",
    "    materia.append(elems[3].text)\n",
    "    comision.append(elems[4].text)\n",
    "    url.append(elems[5].find('a')['href'])"
   ]
  },
  {
   "cell_type": "code",
   "execution_count": null,
   "id": "dfb6d614",
   "metadata": {},
   "outputs": [],
   "source": [
    "import PyPDF2\n",
    "file = open('PDFs/1.pdf', 'rb')\n",
    "fileReader = PyPDF2.PdfFileReader(file)\n",
    "print(fileReader.numPages)\n",
    "text = fileReader.getPage(0).extractText()"
   ]
  },
  {
   "cell_type": "code",
   "execution_count": null,
   "id": "894c944f",
   "metadata": {},
   "outputs": [],
   "source": [
    "# Sanity check\n",
    "m1 = df.name.str.contains('ativa Popular Indígena')\n",
    "m2 = df.name.str.contains('Iniciativa Popular Constituyente')\n",
    "m3 = df.name.str.contains('Iniciativa Convenci')\n",
    "m4 = df.name.str.contains('Iniciativas')\n",
    "all_df = df[m1|m2|m3|m4]\n",
    "df[~df.index.isin(all_df.index)]"
   ]
  },
  {
   "cell_type": "code",
   "execution_count": null,
   "id": "b808c769",
   "metadata": {},
   "outputs": [],
   "source": [
    "for doc_index in ind_df.index:\n",
    "    url = ind_df.loc[doc_index,'doc_url']\n",
    "    response = requests.get(url)\n",
    "    with open(f'PDFs/Indigenas/{doc_index}.pdf', 'wb') as f:\n",
    "        f.write(response.content)\n",
    "for doc_index in conv_df.index:\n",
    "    url = conv_df.loc[doc_index,'doc_url']\n",
    "    response = requests.get(url)\n",
    "    with open(f'PDFs/Convencionales/{doc_index}.pdf', 'wb') as f:\n",
    "        f.write(response.content)\n",
    "for doc_index in multipl_df.index:\n",
    "    url = multipl_df.loc[doc_index,'doc_url']\n",
    "    response = requests.get(url)\n",
    "    with open(f'PDFs/Multiples/{doc_index}.pdf', 'wb') as f:\n",
    "        f.write(response.content)\n",
    "for doc_index in pop_df.index:\n",
    "    url = pop_df.loc[doc_index,'doc_url']\n",
    "    response = requests.get(url)\n",
    "    with open(f'PDFs/Populares/{doc_index}.pdf', 'wb') as f:\n",
    "        f.write(response.content)"
   ]
  },
  {
   "cell_type": "code",
   "execution_count": null,
   "id": "04bc84f5",
   "metadata": {},
   "outputs": [],
   "source": []
  }
 ],
 "metadata": {
  "kernelspec": {
   "display_name": "Python [conda env:pdfscrape]",
   "language": "python",
   "name": "conda-env-pdfscrape-py"
  },
  "language_info": {
   "codemirror_mode": {
    "name": "ipython",
    "version": 3
   },
   "file_extension": ".py",
   "mimetype": "text/x-python",
   "name": "python",
   "nbconvert_exporter": "python",
   "pygments_lexer": "ipython3",
   "version": "3.10.2"
  }
 },
 "nbformat": 4,
 "nbformat_minor": 5
}
