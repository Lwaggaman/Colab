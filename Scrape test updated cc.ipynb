{
 "cells": [
  {
   "cell_type": "code",
   "execution_count": 1,
   "id": "be01939a",
   "metadata": {},
   "outputs": [],
   "source": [
    "import os\n",
    "from selenium import webdriver\n",
    "from bs4 import BeautifulSoup as bs\n",
    "import pandas as pd\n",
    "import time, random"
   ]
  },
  {
   "cell_type": "code",
   "execution_count": 33,
   "id": "f9927d7a",
   "metadata": {},
   "outputs": [
    {
     "name": "stderr",
     "output_type": "stream",
     "text": [
      "/var/folders/tv/8qzgqvq554vgrs4zb6bwbwlm0000gn/T/ipykernel_30890/3820478982.py:4: DeprecationWarning: executable_path has been deprecated, please pass in a Service object\n",
      "  driver = webdriver.Chrome(chromedriver)\n"
     ]
    }
   ],
   "source": [
    "chromedriver = '/Users/lw/Desktop/chromedriver'\n",
    "os.environ['webdriver.chrome.driver'] = \\\n",
    "        chromedriver\n",
    "driver = webdriver.Chrome(chromedriver)\n",
    "driver.implicitly_wait(20)"
   ]
  },
  {
   "cell_type": "code",
   "execution_count": 34,
   "id": "c088c5bb",
   "metadata": {},
   "outputs": [
    {
     "name": "stderr",
     "output_type": "stream",
     "text": [
      "/var/folders/tv/8qzgqvq554vgrs4zb6bwbwlm0000gn/T/ipykernel_30890/1720728470.py:2: DeprecationWarning: find_element_by_* commands are deprecated. Please use find_element() instead\n",
      "  driver.find_element_by_id('nav-iniciativas-tab').click() #Navigate to page containing documents of interest.\n"
     ]
    }
   ],
   "source": [
    "driver.get('https://www.chileconvencion.cl/documentos/')\n",
    "driver.find_element_by_id('nav-iniciativas-tab').click() #Navigate to page containing documents of interest."
   ]
  },
  {
   "cell_type": "code",
   "execution_count": 35,
   "id": "14ce28eb",
   "metadata": {},
   "outputs": [
    {
     "name": "stderr",
     "output_type": "stream",
     "text": [
      "/var/folders/tv/8qzgqvq554vgrs4zb6bwbwlm0000gn/T/ipykernel_30890/2331300441.py:7: DeprecationWarning: find_element_by_* commands are deprecated. Please use find_element() instead\n",
      "  driver.find_element_by_id('tableIniciativas_next').click()\n"
     ]
    }
   ],
   "source": [
    "docs_table = []\n",
    "for i in range(85):\n",
    "    soup = bs(driver.page_source)\n",
    "    [docs_table.append(doc) for doc in soup.find(id='tableIniciativas').find_all(class_='even')]\n",
    "    [docs_table.append(doc) for doc in soup.find(id='tableIniciativas').find_all(class_='odd')]\n",
    "    if i != 84:\n",
    "        driver.find_element_by_id('tableIniciativas_next').click()\n",
    "    "
   ]
  },
  {
   "cell_type": "code",
   "execution_count": 36,
   "id": "6bbf1b38",
   "metadata": {},
   "outputs": [],
   "source": [
    "urls = [doc.find_all('td')[5].find('a')['href'] for doc in docs_table]\n",
    "nr = [doc.find_all('td')[0].text for doc in docs_table]\n",
    "\n",
    "df = pd.DataFrame(urls, index=nr, columns=['doc_url'])\n",
    "df['name'] = [doc.find_all('td')[1].text for doc in docs_table]\n",
    "df['bulletin'] = [doc.find_all('td')[2].text for doc in docs_table]\n",
    "df['topic'] = [doc.find_all('td')[3].text for doc in docs_table]\n",
    "df['commission'] = [doc.find_all('td')[4].text for doc in docs_table]"
   ]
  },
  {
   "cell_type": "code",
   "execution_count": 37,
   "id": "a895ebf0",
   "metadata": {},
   "outputs": [
    {
     "name": "stdout",
     "output_type": "stream",
     "text": [
      "(3, 5)\n"
     ]
    }
   ],
   "source": [
    "print(df[~df.doc_url.str.contains('.pdf')].shape)\n",
    "missing_url_index = df[~df.doc_url.str.contains('.pdf')].index\n",
    "#print(docs_table[nr.index(missing_url_index)].find_all('td')[-1].find('a')) #Problem from the site\n",
    "df.drop(index=missing_url_index, inplace=True, errors='ignore') #Drop initiative w missing url from df"
   ]
  },
  {
   "cell_type": "code",
   "execution_count": 24,
   "id": "4d5040dd",
   "metadata": {},
   "outputs": [],
   "source": [
    "import re\n",
    "#633-3 "
   ]
  },
  {
   "cell_type": "code",
   "execution_count": 64,
   "id": "eb77da95",
   "metadata": {},
   "outputs": [],
   "source": [
    "df['name'] = df.name.apply(lambda x: re.sub(f'\\xa0', ' ', x)) # invisible formatting that hinders search\n",
    "df['name'] = df.name.apply(lambda x: re.sub(f'  ', ' ', x))\n",
    "\n",
    "ind_df = df[df.name.str.lower().str.contains(r'ativa popular indígena')]\n",
    "pop_df = df[df.name.str.lower().str.contains('iniciativa popular constituyente')]\n",
    "multipl_df = df[df.name.str.lower().str.contains('iniciativas')] #Special PDFs that contain multiple proposals\n",
    "conv_df = df[df.name.str.lower().str.contains('iva conv')|df.name.str.contains('iva Ind')]"
   ]
  },
  {
   "cell_type": "code",
   "execution_count": 65,
   "id": "1b95a364",
   "metadata": {},
   "outputs": [
    {
     "data": {
      "text/plain": [
       "(846, False)"
      ]
     },
     "execution_count": 65,
     "metadata": {},
     "output_type": "execute_result"
    }
   ],
   "source": [
    "info_dfs = [ind_df,pop_df,multipl_df,conv_df]\n",
    "nr_docs = sum([spec_df.shape[0] for spec_df in info_dfs])\n",
    "nr_docs, nr_docs==df.shape[0] # Sanity Check"
   ]
  },
  {
   "cell_type": "code",
   "execution_count": 66,
   "id": "866ed43c",
   "metadata": {},
   "outputs": [
    {
     "data": {
      "text/plain": [
       "[(145, 5), (78, 5), (1, 5), (622, 5)]"
      ]
     },
     "execution_count": 66,
     "metadata": {},
     "output_type": "execute_result"
    }
   ],
   "source": [
    "[df.shape for df in info_dfs]"
   ]
  },
  {
   "cell_type": "code",
   "execution_count": 67,
   "id": "9b4d041f",
   "metadata": {},
   "outputs": [
    {
     "name": "stderr",
     "output_type": "stream",
     "text": [
      "/var/folders/tv/8qzgqvq554vgrs4zb6bwbwlm0000gn/T/ipykernel_30890/843948158.py:1: FutureWarning: The frame.append method is deprecated and will be removed from pandas in a future version. Use pandas.concat instead.\n",
      "  conv_df.append(df.loc['18']).shape\n"
     ]
    },
    {
     "data": {
      "text/plain": [
       "(623, 5)"
      ]
     },
     "execution_count": 67,
     "metadata": {},
     "output_type": "execute_result"
    }
   ],
   "source": [
    "conv_df.append(df.loc['18']).shape"
   ]
  },
  {
   "cell_type": "code",
   "execution_count": 74,
   "id": "92cabcfb",
   "metadata": {},
   "outputs": [],
   "source": [
    "unassigned = df[~df.index.isin(pd.concat(info_dfs).index)]"
   ]
  },
  {
   "cell_type": "code",
   "execution_count": 75,
   "id": "4ab5126f",
   "metadata": {},
   "outputs": [
    {
     "data": {
      "text/html": [
       "<div>\n",
       "<style scoped>\n",
       "    .dataframe tbody tr th:only-of-type {\n",
       "        vertical-align: middle;\n",
       "    }\n",
       "\n",
       "    .dataframe tbody tr th {\n",
       "        vertical-align: top;\n",
       "    }\n",
       "\n",
       "    .dataframe thead th {\n",
       "        text-align: right;\n",
       "    }\n",
       "</style>\n",
       "<table border=\"1\" class=\"dataframe\">\n",
       "  <thead>\n",
       "    <tr style=\"text-align: right;\">\n",
       "      <th></th>\n",
       "      <th>doc_url</th>\n",
       "      <th>name</th>\n",
       "      <th>bulletin</th>\n",
       "      <th>topic</th>\n",
       "      <th>commission</th>\n",
       "    </tr>\n",
       "  </thead>\n",
       "  <tbody>\n",
       "    <tr>\n",
       "      <th>18</th>\n",
       "      <td>https://www.chileconvencion.cl/wp-content/uplo...</td>\n",
       "      <td>ropone régimen tributario, fiscal ypresupuesta...</td>\n",
       "      <td>Boletín 633-3</td>\n",
       "      <td>Régimen tributario, fiscal y  presupuestario d...</td>\n",
       "      <td>Comisión sobre Forma de Estado</td>\n",
       "    </tr>\n",
       "  </tbody>\n",
       "</table>\n",
       "</div>"
      ],
      "text/plain": [
       "                                              doc_url  \\\n",
       "18  https://www.chileconvencion.cl/wp-content/uplo...   \n",
       "\n",
       "                                                 name       bulletin  \\\n",
       "18  ropone régimen tributario, fiscal ypresupuesta...  Boletín 633-3   \n",
       "\n",
       "                                                topic  \\\n",
       "18  Régimen tributario, fiscal y  presupuestario d...   \n",
       "\n",
       "                        commission  \n",
       "18  Comisión sobre Forma de Estado  "
      ]
     },
     "execution_count": 75,
     "metadata": {},
     "output_type": "execute_result"
    }
   ],
   "source": [
    "unassigned"
   ]
  },
  {
   "cell_type": "code",
   "execution_count": 29,
   "id": "53aa0e4b",
   "metadata": {},
   "outputs": [
    {
     "data": {
      "text/html": [
       "<div>\n",
       "<style scoped>\n",
       "    .dataframe tbody tr th:only-of-type {\n",
       "        vertical-align: middle;\n",
       "    }\n",
       "\n",
       "    .dataframe tbody tr th {\n",
       "        vertical-align: top;\n",
       "    }\n",
       "\n",
       "    .dataframe thead th {\n",
       "        text-align: right;\n",
       "    }\n",
       "</style>\n",
       "<table border=\"1\" class=\"dataframe\">\n",
       "  <thead>\n",
       "    <tr style=\"text-align: right;\">\n",
       "      <th></th>\n",
       "      <th>doc_url</th>\n",
       "      <th>name</th>\n",
       "      <th>bulletin</th>\n",
       "      <th>topic</th>\n",
       "      <th>commission</th>\n",
       "    </tr>\n",
       "  </thead>\n",
       "  <tbody>\n",
       "    <tr>\n",
       "      <th>221</th>\n",
       "      <td>https://www.chileconvencion.cl/wp-content/uplo...</td>\n",
       "      <td>Iniciativa Popular Constituyente sobre Natural...</td>\n",
       "      <td>Boletín 77-5 Popular</td>\n",
       "      <td>Naturaleza Jurídica del agua</td>\n",
       "      <td>Comisión sobre Medio Ambiente</td>\n",
       "    </tr>\n",
       "  </tbody>\n",
       "</table>\n",
       "</div>"
      ],
      "text/plain": [
       "                                               doc_url  \\\n",
       "221  https://www.chileconvencion.cl/wp-content/uplo...   \n",
       "\n",
       "                                                  name              bulletin  \\\n",
       "221  Iniciativa Popular Constituyente sobre Natural...  Boletín 77-5 Popular   \n",
       "\n",
       "                            topic                     commission  \n",
       "221  Naturaleza Jurídica del agua  Comisión sobre Medio Ambiente  "
      ]
     },
     "execution_count": 29,
     "metadata": {},
     "output_type": "execute_result"
    }
   ],
   "source": [
    "df[df.topic.str.contains('dica del agua')]"
   ]
  },
  {
   "cell_type": "code",
   "execution_count": 30,
   "id": "75a6ab79",
   "metadata": {},
   "outputs": [
    {
     "data": {
      "text/html": [
       "<div>\n",
       "<style scoped>\n",
       "    .dataframe tbody tr th:only-of-type {\n",
       "        vertical-align: middle;\n",
       "    }\n",
       "\n",
       "    .dataframe tbody tr th {\n",
       "        vertical-align: top;\n",
       "    }\n",
       "\n",
       "    .dataframe thead th {\n",
       "        text-align: right;\n",
       "    }\n",
       "</style>\n",
       "<table border=\"1\" class=\"dataframe\">\n",
       "  <thead>\n",
       "    <tr style=\"text-align: right;\">\n",
       "      <th></th>\n",
       "      <th>doc_url</th>\n",
       "      <th>name</th>\n",
       "      <th>bulletin</th>\n",
       "      <th>topic</th>\n",
       "      <th>commission</th>\n",
       "    </tr>\n",
       "  </thead>\n",
       "  <tbody>\n",
       "    <tr>\n",
       "      <th>2</th>\n",
       "      <td>https://www.chileconvencion.cl/wp-content/uplo...</td>\n",
       "      <td>Iniciativa Convencional Constituyente que regu...</td>\n",
       "      <td>Boletín 649-5</td>\n",
       "      <td>Derecho humano al agua</td>\n",
       "      <td>Comisión sobre Medio Ambiente</td>\n",
       "    </tr>\n",
       "    <tr>\n",
       "      <th>690</th>\n",
       "      <td>https://www.chileconvencion.cl/wp-content/uplo...</td>\n",
       "      <td>Iniciativa Convencional Constituyente que decl...</td>\n",
       "      <td>Boiletín 164-4</td>\n",
       "      <td>Derecho humano al agua</td>\n",
       "      <td>Comisión de Derechos Fundamentales</td>\n",
       "    </tr>\n",
       "    <tr>\n",
       "      <th>715</th>\n",
       "      <td>https://www.chileconvencion.cl/wp-content/uplo...</td>\n",
       "      <td>Iniciativa Convencional Constituyente que cons...</td>\n",
       "      <td>Boletín 136-4</td>\n",
       "      <td>Derecho humano al agua</td>\n",
       "      <td>Comisión de Derechos Fundamentales</td>\n",
       "    </tr>\n",
       "  </tbody>\n",
       "</table>\n",
       "</div>"
      ],
      "text/plain": [
       "                                               doc_url  \\\n",
       "2    https://www.chileconvencion.cl/wp-content/uplo...   \n",
       "690  https://www.chileconvencion.cl/wp-content/uplo...   \n",
       "715  https://www.chileconvencion.cl/wp-content/uplo...   \n",
       "\n",
       "                                                  name        bulletin  \\\n",
       "2    Iniciativa Convencional Constituyente que regu...   Boletín 649-5   \n",
       "690  Iniciativa Convencional Constituyente que decl...  Boiletín 164-4   \n",
       "715  Iniciativa Convencional Constituyente que cons...   Boletín 136-4   \n",
       "\n",
       "                       topic                          commission  \n",
       "2    Derecho humano al agua        Comisión sobre Medio Ambiente  \n",
       "690   Derecho humano al agua  Comisión de Derechos Fundamentales  \n",
       "715   Derecho humano al agua  Comisión de Derechos Fundamentales  "
      ]
     },
     "execution_count": 30,
     "metadata": {},
     "output_type": "execute_result"
    }
   ],
   "source": [
    "df[df.topic.str.contains('Derecho humano al agua')]"
   ]
  },
  {
   "cell_type": "code",
   "execution_count": 42,
   "id": "03044555",
   "metadata": {},
   "outputs": [
    {
     "data": {
      "text/plain": [
       "(615, 5)"
      ]
     },
     "execution_count": 42,
     "metadata": {},
     "output_type": "execute_result"
    }
   ],
   "source": [
    "#SOBRE DEFENSORÍA DE LOS PUEBLOS\n",
    "df[df.name.str.contains('Iniciativa Convencional')].shape"
   ]
  },
  {
   "cell_type": "code",
   "execution_count": 32,
   "id": "b87b47d4",
   "metadata": {},
   "outputs": [
    {
     "data": {
      "text/html": [
       "<div>\n",
       "<style scoped>\n",
       "    .dataframe tbody tr th:only-of-type {\n",
       "        vertical-align: middle;\n",
       "    }\n",
       "\n",
       "    .dataframe tbody tr th {\n",
       "        vertical-align: top;\n",
       "    }\n",
       "\n",
       "    .dataframe thead th {\n",
       "        text-align: right;\n",
       "    }\n",
       "</style>\n",
       "<table border=\"1\" class=\"dataframe\">\n",
       "  <thead>\n",
       "    <tr style=\"text-align: right;\">\n",
       "      <th></th>\n",
       "      <th>doc_url</th>\n",
       "      <th>name</th>\n",
       "      <th>bulletin</th>\n",
       "      <th>topic</th>\n",
       "      <th>commission</th>\n",
       "    </tr>\n",
       "  </thead>\n",
       "  <tbody>\n",
       "    <tr>\n",
       "      <th>2</th>\n",
       "      <td>https://www.chileconvencion.cl/wp-content/uplo...</td>\n",
       "      <td>Iniciativa Convencional Constituyente que regu...</td>\n",
       "      <td>Boletín 649-5</td>\n",
       "      <td>Derecho humano al agua</td>\n",
       "      <td>Comisión sobre Medio Ambiente</td>\n",
       "    </tr>\n",
       "    <tr>\n",
       "      <th>4</th>\n",
       "      <td>https://www.chileconvencion.cl/wp-content/uplo...</td>\n",
       "      <td>Iniciativa Convencional Constituyente que gara...</td>\n",
       "      <td>Boletín 647-5</td>\n",
       "      <td>Océano, ecosistemas marinos y litoral costero</td>\n",
       "      <td>Comisión sobre Medio Ambiente</td>\n",
       "    </tr>\n",
       "    <tr>\n",
       "      <th>6</th>\n",
       "      <td>https://www.chileconvencion.cl/wp-content/uplo...</td>\n",
       "      <td>Iniciativa Convencional Constituyente que prop...</td>\n",
       "      <td>Boletín 645-5</td>\n",
       "      <td>Estatuto constitucional de la Energía</td>\n",
       "      <td>Comisión sobre Medio Ambiente</td>\n",
       "    </tr>\n",
       "    <tr>\n",
       "      <th>8</th>\n",
       "      <td>https://www.chileconvencion.cl/wp-content/uplo...</td>\n",
       "      <td>Iniciativa Convencional Constituyente que cons...</td>\n",
       "      <td>Boletín 643-6</td>\n",
       "      <td>Banco Central</td>\n",
       "      <td>Comisión sobre Sistemas de Justicia</td>\n",
       "    </tr>\n",
       "    <tr>\n",
       "      <th>10</th>\n",
       "      <td>https://www.chileconvencion.cl/wp-content/uplo...</td>\n",
       "      <td>Iniciativa Convencional Constituyente que regu...</td>\n",
       "      <td>Boletín 641-6</td>\n",
       "      <td>Contraloría General de la  República</td>\n",
       "      <td>Comisión sobre Sistemas de Justicia</td>\n",
       "    </tr>\n",
       "  </tbody>\n",
       "</table>\n",
       "</div>"
      ],
      "text/plain": [
       "                                              doc_url  \\\n",
       "2   https://www.chileconvencion.cl/wp-content/uplo...   \n",
       "4   https://www.chileconvencion.cl/wp-content/uplo...   \n",
       "6   https://www.chileconvencion.cl/wp-content/uplo...   \n",
       "8   https://www.chileconvencion.cl/wp-content/uplo...   \n",
       "10  https://www.chileconvencion.cl/wp-content/uplo...   \n",
       "\n",
       "                                                 name       bulletin  \\\n",
       "2   Iniciativa Convencional Constituyente que regu...  Boletín 649-5   \n",
       "4   Iniciativa Convencional Constituyente que gara...  Boletín 647-5   \n",
       "6   Iniciativa Convencional Constituyente que prop...  Boletín 645-5   \n",
       "8   Iniciativa Convencional Constituyente que cons...  Boletín 643-6   \n",
       "10  Iniciativa Convencional Constituyente que regu...  Boletín 641-6   \n",
       "\n",
       "                                            topic  \\\n",
       "2                         Derecho humano al agua    \n",
       "4   Océano, ecosistemas marinos y litoral costero   \n",
       "6           Estatuto constitucional de la Energía   \n",
       "8                                   Banco Central   \n",
       "10           Contraloría General de la  República   \n",
       "\n",
       "                             commission  \n",
       "2         Comisión sobre Medio Ambiente  \n",
       "4         Comisión sobre Medio Ambiente  \n",
       "6         Comisión sobre Medio Ambiente  \n",
       "8   Comisión sobre Sistemas de Justicia  \n",
       "10  Comisión sobre Sistemas de Justicia  "
      ]
     },
     "execution_count": 32,
     "metadata": {},
     "output_type": "execute_result"
    }
   ],
   "source": [
    "df.head()"
   ]
  }
 ],
 "metadata": {
  "kernelspec": {
   "display_name": "Python [conda env:pdfscrape]",
   "language": "python",
   "name": "conda-env-pdfscrape-py"
  },
  "language_info": {
   "codemirror_mode": {
    "name": "ipython",
    "version": 3
   },
   "file_extension": ".py",
   "mimetype": "text/x-python",
   "name": "python",
   "nbconvert_exporter": "python",
   "pygments_lexer": "ipython3",
   "version": "3.10.2"
  }
 },
 "nbformat": 4,
 "nbformat_minor": 5
}
